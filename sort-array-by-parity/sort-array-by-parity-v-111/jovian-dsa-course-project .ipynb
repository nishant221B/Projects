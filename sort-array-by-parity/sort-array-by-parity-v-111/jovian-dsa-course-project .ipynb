{
 "cells": [
  {
   "cell_type": "markdown",
   "id": "12a592de",
   "metadata": {},
   "source": [
    "# Project - Sort Array By Parity\n",
    "\n",
    "\n"
   ]
  },
  {
   "cell_type": "markdown",
   "id": "f61977e6",
   "metadata": {},
   "source": [
    "## How to run the code and save your work\n",
    "\n",
    "The recommended way to run this notebook is to click the \"Run\" button at the top of this page, and select \"Run on Binder\". This will run the notebook on [mybinder.org](https://mybinder.org), a free online service for running Jupyter notebooks. \n",
    "\n",
    "This tutorial is an executable [Jupyter notebook](https://jupyter.org). You can _run_ this tutorial and experiment with the code examples in a couple of ways: *using free online resources* (recommended) or *on your computer*.\n",
    "\n",
    "#### Option 1: Running using free online resources (1-click, recommended)\n",
    "\n",
    "The easiest way to start executing the code is to click the **Run** button at the top of this page and select **Run on Binder**. You can also select \"Run on Colab\" or \"Run on Kaggle\", but you'll need to create an account on [Google Colab](https://colab.research.google.com) or [Kaggle](https://kaggle.com) to use these platforms.\n",
    "\n",
    "\n",
    "#### Option 2: Running on your computer locally\n",
    "\n",
    "To run the code on your computer locally, you'll need to set up [Python](https://www.python.org), download the notebook and install the required libraries. We recommend using the [Conda](https://docs.conda.io/projects/conda/en/latest/user-guide/install/) distribution of Python. Click the **Run** button at the top of this page, select the **Run Locally** option, and follow the instructions.\n",
    "\n",
    "#### Saving your work\n",
    "\n",
    "Before staring the assignment, let's save a snapshot of the assignment to your [Jovian](https://jovian.ai) profile, so that you can access it later, and continue your work."
   ]
  },
  {
   "cell_type": "code",
   "execution_count": 1,
   "id": "38f7792c",
   "metadata": {},
   "outputs": [],
   "source": [
    "project_name = \"Sort Array By Parity\""
   ]
  },
  {
   "cell_type": "code",
   "execution_count": 2,
   "id": "1ed889b7",
   "metadata": {},
   "outputs": [],
   "source": [
    "!pip install jovian --upgrade --quiet"
   ]
  },
  {
   "cell_type": "code",
   "execution_count": 3,
   "id": "7a9288a1",
   "metadata": {},
   "outputs": [],
   "source": [
    "import jovian"
   ]
  },
  {
   "cell_type": "code",
   "execution_count": 4,
   "id": "a3deb375",
   "metadata": {},
   "outputs": [
    {
     "data": {
      "application/javascript": [
       "window.require && require([\"base/js/namespace\"],function(Jupyter){Jupyter.notebook.save_checkpoint()})"
      ],
      "text/plain": [
       "<IPython.core.display.Javascript object>"
      ]
     },
     "metadata": {},
     "output_type": "display_data"
    },
    {
     "name": "stdout",
     "output_type": "stream",
     "text": [
      "[jovian] Updating notebook \"nishant221b/sort-array-by-parity\" on https://jovian.ai\u001b[0m\n",
      "[jovian] Committed successfully! https://jovian.ai/nishant221b/sort-array-by-parity\u001b[0m\n"
     ]
    },
    {
     "data": {
      "text/plain": [
       "'https://jovian.ai/nishant221b/sort-array-by-parity'"
      ]
     },
     "execution_count": 4,
     "metadata": {},
     "output_type": "execute_result"
    }
   ],
   "source": [
    "jovian.commit(project=project_name)"
   ]
  },
  {
   "cell_type": "markdown",
   "id": "5f6cdfe0",
   "metadata": {},
   "source": [
    "## Problem Statement\n",
    "\n",
    "\n",
    "> Given an integer array nums, move all the even integers at the beginning of the array followed by all the odd integers.\n",
    ">\n",
    "> Return any array that satisfies this condition.\n",
    ">\n",
    ">\n",
    "<b>\n",
    "Constraints:\n",
    "</b>\n",
    "\n",
    "    1 <= nums.length <= 5000\n",
    "    0 <= nums[i] <= 5000\n",
    "\n",
    "\n",
    "\n",
    "Source: https://leetcode.com/problems/sort-array-by-parity/"
   ]
  },
  {
   "cell_type": "markdown",
   "id": "c0d43f79",
   "metadata": {},
   "source": [
    "## The Method\n",
    "\n",
    "Here's the systematic strategy we'll apply for solving problems:\n",
    "\n",
    "1. State the problem clearly. Identify the input & output formats.\n",
    "2. Come up with some example inputs & outputs. Try to cover all edge cases.\n",
    "3. Come up with a correct solution for the problem. State it in plain English.\n",
    "4. Implement the solution and test it using example inputs. Fix bugs, if any.\n",
    "5. Analyze the algorithm's complexity and identify inefficiencies, if any.\n",
    "6. Apply the right technique to overcome the inefficiency. Repeat steps 3 to 6.\n",
    "\n",
    "This approach is explained in detail in [Lesson 1](https://jovian.ai/learn/data-structures-and-algorithms-in-python/lesson/lesson-1-binary-search-linked-lists-and-complexity) of the course. Let's apply this approach step-by-step."
   ]
  },
  {
   "cell_type": "markdown",
   "id": "3c8ab7d0",
   "metadata": {},
   "source": [
    "## Solution\n",
    "\n",
    "\n",
    "### 1. State the problem clearly. Identify the input & output formats.\n",
    "\n",
    "While this problem is stated clearly enough, it's always useful to try and express in your own words, in a way that makes it most clear for you. \n",
    "\n",
    "\n",
    "**Problem**\n",
    "\n",
    "> From a given list of non-negative integers we need to return a list which will contain all even elements at left followed by all odd elements at right.\n",
    "\n",
    "<br/>\n",
    "\n",
    "\n",
    "**Input**\n",
    "\n",
    "1. nums = [3,1,2,4]\n",
    "\n",
    "2. nums = [0]\n",
    "\n",
    "\n",
    "**Output**\n",
    "\n",
    "1. [2,4,3,1]\n",
    "2. [0]\n",
    "\n",
    "\n",
    "<br/>\n",
    "\n",
    "Based on the above, we can now create a signature of our function:"
   ]
  },
  {
   "cell_type": "code",
   "execution_count": 5,
   "id": "d37e49e8",
   "metadata": {},
   "outputs": [],
   "source": [
    "def sortArrayByParity(nums):\n",
    "    pass"
   ]
  },
  {
   "cell_type": "markdown",
   "id": "f3e4a46f",
   "metadata": {},
   "source": [
    "Save and upload your work before continuing."
   ]
  },
  {
   "cell_type": "code",
   "execution_count": 6,
   "id": "d4c9c07f",
   "metadata": {},
   "outputs": [],
   "source": [
    "import jovian"
   ]
  },
  {
   "cell_type": "code",
   "execution_count": 7,
   "id": "3d6f04de",
   "metadata": {},
   "outputs": [
    {
     "data": {
      "application/javascript": [
       "window.require && require([\"base/js/namespace\"],function(Jupyter){Jupyter.notebook.save_checkpoint()})"
      ],
      "text/plain": [
       "<IPython.core.display.Javascript object>"
      ]
     },
     "metadata": {},
     "output_type": "display_data"
    },
    {
     "name": "stdout",
     "output_type": "stream",
     "text": [
      "[jovian] Updating notebook \"nishant221b/sort-array-by-parity\" on https://jovian.ai\u001b[0m\n",
      "[jovian] Committed successfully! https://jovian.ai/nishant221b/sort-array-by-parity\u001b[0m\n"
     ]
    },
    {
     "data": {
      "text/plain": [
       "'https://jovian.ai/nishant221b/sort-array-by-parity'"
      ]
     },
     "execution_count": 7,
     "metadata": {},
     "output_type": "execute_result"
    }
   ],
   "source": [
    "jovian.commit()"
   ]
  },
  {
   "cell_type": "markdown",
   "id": "588ea51c",
   "metadata": {},
   "source": [
    "### 2. Come up with some example inputs & outputs. Try to cover all edge cases.\n",
    "\n",
    "Our function should be able to handle any set of valid inputs we pass into it. Here's a list of some possible variations we might encounter:\n",
    "\n",
    "1. list containing both even and odd integers\n",
    "2. list containtg only one value\n",
    "3. list with only even/odd integers\n",
    "4. list is empty\n",
    "\n"
   ]
  },
  {
   "cell_type": "code",
   "execution_count": 8,
   "id": "68106a04",
   "metadata": {},
   "outputs": [],
   "source": [
    "# list containing both even and odd integers\n",
    "test0 = {\n",
    "    'input': {\n",
    "      'nums' : [3,1,2,4]\n",
    "    },\n",
    "    'output': [2,4,1,3]\n",
    "}"
   ]
  },
  {
   "cell_type": "code",
   "execution_count": 9,
   "id": "1e7a1034",
   "metadata": {},
   "outputs": [],
   "source": [
    "# list containtg only one value\n",
    "test1 = {\n",
    "    'input': {\n",
    "        'nums' : [1]\n",
    "    },\n",
    "    'output': [1]\n",
    "}"
   ]
  },
  {
   "cell_type": "code",
   "execution_count": 10,
   "id": "1de4ecdd",
   "metadata": {},
   "outputs": [],
   "source": [
    "#list with only even/odd integers\n",
    "test2 = {\n",
    "    'input': {\n",
    "        'nums' : [2,4,6,8]\n",
    "    },\n",
    "    'output': [2,4,6,8]\n",
    "}"
   ]
  },
  {
   "cell_type": "code",
   "execution_count": 11,
   "id": "9e8f1246",
   "metadata": {},
   "outputs": [],
   "source": [
    "#list is empty\n",
    "test3 = {\n",
    "    'input': {\n",
    "        'nums' : []\n",
    "    },\n",
    "    'output': []\n",
    "}"
   ]
  },
  {
   "cell_type": "markdown",
   "id": "1b43e280",
   "metadata": {},
   "source": [
    "Create one test case for each of the scenarios listed above. We'll store our test cases in an array called `tests`."
   ]
  },
  {
   "cell_type": "code",
   "execution_count": 12,
   "id": "b6e173c1",
   "metadata": {},
   "outputs": [
    {
     "data": {
      "text/plain": [
       "[{'input': {'nums': [3, 1, 2, 4]}, 'output': [2, 4, 1, 3]},\n",
       " {'input': {'nums': [1]}, 'output': [1]},\n",
       " {'input': {'nums': [2, 4, 6, 8]}, 'output': [2, 4, 6, 8]},\n",
       " {'input': {'nums': []}, 'output': []}]"
      ]
     },
     "execution_count": 12,
     "metadata": {},
     "output_type": "execute_result"
    }
   ],
   "source": [
    "tests = [test0,test1,test2,test3]\n",
    "tests"
   ]
  },
  {
   "cell_type": "markdown",
   "id": "f72775ab",
   "metadata": {},
   "source": [
    "### 3. Come up with a correct solution for the problem. State it in plain English.\n",
    "\n",
    "Our first goal should always be to come up with a _correct_ solution to the problem, which may not necessarily be the most _efficient_ solution. Come with a correct solution and explain it in simple words below:\n",
    "\n",
    "1. Create a new list of the same size\n",
    "2. Initialize start as first index and end as last index of list \n",
    "3. Iterate through given list and check\n",
    "4. If the current element is even then place it at the start of new list and increment start by 1\n",
    "5. If the current element is odd then place it at the end of new list and decrement end by 1\n",
    "\n"
   ]
  },
  {
   "cell_type": "code",
   "execution_count": 13,
   "id": "f9d719e1",
   "metadata": {},
   "outputs": [
    {
     "data": {
      "application/javascript": [
       "window.require && require([\"base/js/namespace\"],function(Jupyter){Jupyter.notebook.save_checkpoint()})"
      ],
      "text/plain": [
       "<IPython.core.display.Javascript object>"
      ]
     },
     "metadata": {},
     "output_type": "display_data"
    },
    {
     "name": "stdout",
     "output_type": "stream",
     "text": [
      "[jovian] Updating notebook \"nishant221b/sort-array-by-parity\" on https://jovian.ai\u001b[0m\n",
      "[jovian] Committed successfully! https://jovian.ai/nishant221b/sort-array-by-parity\u001b[0m\n"
     ]
    },
    {
     "data": {
      "text/plain": [
       "'https://jovian.ai/nishant221b/sort-array-by-parity'"
      ]
     },
     "execution_count": 13,
     "metadata": {},
     "output_type": "execute_result"
    }
   ],
   "source": [
    "jovian.commit()"
   ]
  },
  {
   "cell_type": "markdown",
   "id": "12546059",
   "metadata": {},
   "source": [
    "###  4. Implement the solution and test it using example inputs. Fix bugs, if any."
   ]
  },
  {
   "cell_type": "code",
   "execution_count": 14,
   "id": "7aae0cfa",
   "metadata": {},
   "outputs": [],
   "source": [
    "def sortArrayByParity(nums):\n",
    "    sorted_nums = [None] * len(nums)\n",
    "    start = 0\n",
    "    end = len(nums) - 1\n",
    "    \n",
    "    for num in nums:\n",
    "            if num % 2 == 0:\n",
    "                sorted_nums[start] = num\n",
    "                start += 1\n",
    "            else:\n",
    "                sorted_nums[end] = num\n",
    "                end -= 1\n",
    "    return sorted_nums"
   ]
  },
  {
   "cell_type": "markdown",
   "id": "e853c389",
   "metadata": {},
   "source": [
    "We can test the function by passing the input to it directly or by using the `evaluate_test_case` function from `jovian`."
   ]
  },
  {
   "cell_type": "code",
   "execution_count": 15,
   "id": "f3dbee81",
   "metadata": {},
   "outputs": [],
   "source": [
    "from jovian.pythondsa import evaluate_test_case"
   ]
  },
  {
   "cell_type": "code",
   "execution_count": 16,
   "id": "e68ed7c6",
   "metadata": {},
   "outputs": [
    {
     "name": "stdout",
     "output_type": "stream",
     "text": [
      "\n",
      "Input:\n",
      "{'nums': [3, 1, 2, 4]}\n",
      "\n",
      "Expected Output:\n",
      "[2, 4, 1, 3]\n",
      "\n",
      "\n",
      "Actual Output:\n",
      "[2, 4, 1, 3]\n",
      "\n",
      "Execution Time:\n",
      "0.006 ms\n",
      "\n",
      "Test Result:\n",
      "\u001b[92mPASSED\u001b[0m\n",
      "\n"
     ]
    },
    {
     "data": {
      "text/plain": [
       "([2, 4, 1, 3], True, 0.006)"
      ]
     },
     "execution_count": 16,
     "metadata": {},
     "output_type": "execute_result"
    }
   ],
   "source": [
    "evaluate_test_case(sortArrayByParity, test0)"
   ]
  },
  {
   "cell_type": "markdown",
   "id": "356c84c1",
   "metadata": {},
   "source": [
    "Evaluate your function against all the test cases together using the `evaluate_test_cases` (plural) function from `jovian`."
   ]
  },
  {
   "cell_type": "code",
   "execution_count": 17,
   "id": "f820e325",
   "metadata": {},
   "outputs": [],
   "source": [
    "from jovian.pythondsa import evaluate_test_cases"
   ]
  },
  {
   "cell_type": "code",
   "execution_count": 18,
   "id": "5adad827",
   "metadata": {},
   "outputs": [
    {
     "name": "stdout",
     "output_type": "stream",
     "text": [
      "\n",
      "\u001b[1mTEST CASE #0\u001b[0m\n",
      "\n",
      "Input:\n",
      "{'nums': [3, 1, 2, 4]}\n",
      "\n",
      "Expected Output:\n",
      "[2, 4, 1, 3]\n",
      "\n",
      "\n",
      "Actual Output:\n",
      "[2, 4, 1, 3]\n",
      "\n",
      "Execution Time:\n",
      "0.006 ms\n",
      "\n",
      "Test Result:\n",
      "\u001b[92mPASSED\u001b[0m\n",
      "\n",
      "\n",
      "\u001b[1mTEST CASE #1\u001b[0m\n",
      "\n",
      "Input:\n",
      "{'nums': [1]}\n",
      "\n",
      "Expected Output:\n",
      "[1]\n",
      "\n",
      "\n",
      "Actual Output:\n",
      "[1]\n",
      "\n",
      "Execution Time:\n",
      "0.004 ms\n",
      "\n",
      "Test Result:\n",
      "\u001b[92mPASSED\u001b[0m\n",
      "\n",
      "\n",
      "\u001b[1mTEST CASE #2\u001b[0m\n",
      "\n",
      "Input:\n",
      "{'nums': [2, 4, 6, 8]}\n",
      "\n",
      "Expected Output:\n",
      "[2, 4, 6, 8]\n",
      "\n",
      "\n",
      "Actual Output:\n",
      "[2, 4, 6, 8]\n",
      "\n",
      "Execution Time:\n",
      "0.004 ms\n",
      "\n",
      "Test Result:\n",
      "\u001b[92mPASSED\u001b[0m\n",
      "\n",
      "\n",
      "\u001b[1mTEST CASE #3\u001b[0m\n",
      "\n",
      "Input:\n",
      "{'nums': []}\n",
      "\n",
      "Expected Output:\n",
      "[]\n",
      "\n",
      "\n",
      "Actual Output:\n",
      "[]\n",
      "\n",
      "Execution Time:\n",
      "0.003 ms\n",
      "\n",
      "Test Result:\n",
      "\u001b[92mPASSED\u001b[0m\n",
      "\n",
      "\n",
      "\u001b[1mSUMMARY\u001b[0m\n",
      "\n",
      "TOTAL: 4, \u001b[92mPASSED\u001b[0m: 4, \u001b[91mFAILED\u001b[0m: 0\n"
     ]
    },
    {
     "data": {
      "text/plain": [
       "[([2, 4, 1, 3], True, 0.006),\n",
       " ([1], True, 0.004),\n",
       " ([2, 4, 6, 8], True, 0.004),\n",
       " ([], True, 0.003)]"
      ]
     },
     "execution_count": 18,
     "metadata": {},
     "output_type": "execute_result"
    }
   ],
   "source": [
    "evaluate_test_cases(sortArrayByParity, tests)"
   ]
  },
  {
   "cell_type": "markdown",
   "id": "1106d2e4",
   "metadata": {},
   "source": [
    "Verify that all the test cases were evaluated. We expect them all to fail, since we haven't implemented the function yet.\n",
    "\n",
    "Let's save our work before continuing."
   ]
  },
  {
   "cell_type": "code",
   "execution_count": 19,
   "id": "c835b3ca",
   "metadata": {},
   "outputs": [
    {
     "data": {
      "application/javascript": [
       "window.require && require([\"base/js/namespace\"],function(Jupyter){Jupyter.notebook.save_checkpoint()})"
      ],
      "text/plain": [
       "<IPython.core.display.Javascript object>"
      ]
     },
     "metadata": {},
     "output_type": "display_data"
    },
    {
     "name": "stdout",
     "output_type": "stream",
     "text": [
      "[jovian] Updating notebook \"nishant221b/sort-array-by-parity\" on https://jovian.ai\u001b[0m\n",
      "[jovian] Committed successfully! https://jovian.ai/nishant221b/sort-array-by-parity\u001b[0m\n"
     ]
    },
    {
     "data": {
      "text/plain": [
       "'https://jovian.ai/nishant221b/sort-array-by-parity'"
      ]
     },
     "execution_count": 19,
     "metadata": {},
     "output_type": "execute_result"
    }
   ],
   "source": [
    "jovian.commit()"
   ]
  },
  {
   "cell_type": "markdown",
   "id": "242084b5",
   "metadata": {},
   "source": [
    "### 5. Analyze the algorithm's complexity and identify inefficiencies, if any."
   ]
  },
  {
   "cell_type": "markdown",
   "id": "bb97395c",
   "metadata": {},
   "source": [
    "Let's analyze the time complexity of above algorithm. Given a list of N non-negative integers, the above algorithm will check each element one-by-one for odd/even till all elements are checked in the list. This means the number of comparisons will be equivalent to number of elements in the list. Thus, we can conclude that the <b>time complexity</b> of above algorithm is <b>O(n)</b>.\n",
    "\n",
    "The <b>space complexity</b> of above algorithm is <b>O(n)</b> as we are creating a new list of same size to return the sorted list."
   ]
  },
  {
   "cell_type": "code",
   "execution_count": 20,
   "id": "3926f212",
   "metadata": {},
   "outputs": [
    {
     "data": {
      "application/javascript": [
       "window.require && require([\"base/js/namespace\"],function(Jupyter){Jupyter.notebook.save_checkpoint()})"
      ],
      "text/plain": [
       "<IPython.core.display.Javascript object>"
      ]
     },
     "metadata": {},
     "output_type": "display_data"
    },
    {
     "name": "stdout",
     "output_type": "stream",
     "text": [
      "[jovian] Updating notebook \"nishant221b/sort-array-by-parity\" on https://jovian.ai\u001b[0m\n",
      "[jovian] Committed successfully! https://jovian.ai/nishant221b/sort-array-by-parity\u001b[0m\n"
     ]
    },
    {
     "data": {
      "text/plain": [
       "'https://jovian.ai/nishant221b/sort-array-by-parity'"
      ]
     },
     "execution_count": 20,
     "metadata": {},
     "output_type": "execute_result"
    }
   ],
   "source": [
    "jovian.commit()"
   ]
  },
  {
   "cell_type": "markdown",
   "id": "f58ac65c",
   "metadata": {},
   "source": [
    "### 6. Apply the right technique to overcome the inefficiency. Repeat steps 3 to 6."
   ]
  },
  {
   "cell_type": "markdown",
   "id": "d198b5e6",
   "metadata": {},
   "source": [
    "Now to overcome the space complexity of above algorithm, we can look for another approach to return the same list as sorted without creating any new list.\n",
    "\n",
    "We can use the swapping technique to swap the start and end index element without creating any new list."
   ]
  },
  {
   "cell_type": "code",
   "execution_count": 21,
   "id": "027a327d",
   "metadata": {},
   "outputs": [
    {
     "data": {
      "application/javascript": [
       "window.require && require([\"base/js/namespace\"],function(Jupyter){Jupyter.notebook.save_checkpoint()})"
      ],
      "text/plain": [
       "<IPython.core.display.Javascript object>"
      ]
     },
     "metadata": {},
     "output_type": "display_data"
    },
    {
     "name": "stdout",
     "output_type": "stream",
     "text": [
      "[jovian] Updating notebook \"nishant221b/sort-array-by-parity\" on https://jovian.ai\u001b[0m\n",
      "[jovian] Committed successfully! https://jovian.ai/nishant221b/sort-array-by-parity\u001b[0m\n"
     ]
    },
    {
     "data": {
      "text/plain": [
       "'https://jovian.ai/nishant221b/sort-array-by-parity'"
      ]
     },
     "execution_count": 21,
     "metadata": {},
     "output_type": "execute_result"
    }
   ],
   "source": [
    "jovian.commit()"
   ]
  },
  {
   "cell_type": "markdown",
   "id": "c0c0b636",
   "metadata": {},
   "source": [
    "### 7. Come up with a correct solution for the problem. State it in plain English.\n",
    "\n",
    "Come with the optimized correct solution and explain it in simple words below:\n",
    "\n",
    "\n",
    "1. Initialize start as first index and end as last index of list\n",
    "2. While start is less than end, check\n",
    "3. If the current element is even then move start to next position\n",
    "4. Else decrement end by 1 until we find an even element at end position\n",
    "5. once an even element is found swap the start and end element"
   ]
  },
  {
   "cell_type": "code",
   "execution_count": 22,
   "id": "fff29fa7",
   "metadata": {},
   "outputs": [
    {
     "data": {
      "application/javascript": [
       "window.require && require([\"base/js/namespace\"],function(Jupyter){Jupyter.notebook.save_checkpoint()})"
      ],
      "text/plain": [
       "<IPython.core.display.Javascript object>"
      ]
     },
     "metadata": {},
     "output_type": "display_data"
    },
    {
     "name": "stdout",
     "output_type": "stream",
     "text": [
      "[jovian] Updating notebook \"nishant221b/sort-array-by-parity\" on https://jovian.ai\u001b[0m\n",
      "[jovian] Committed successfully! https://jovian.ai/nishant221b/sort-array-by-parity\u001b[0m\n"
     ]
    },
    {
     "data": {
      "text/plain": [
       "'https://jovian.ai/nishant221b/sort-array-by-parity'"
      ]
     },
     "execution_count": 22,
     "metadata": {},
     "output_type": "execute_result"
    }
   ],
   "source": [
    "jovian.commit()"
   ]
  },
  {
   "cell_type": "markdown",
   "id": "6c4a048e",
   "metadata": {},
   "source": [
    "### 8. Implement the solution and test it using example inputs. Fix bugs, if any."
   ]
  },
  {
   "cell_type": "code",
   "execution_count": 23,
   "id": "63163cac",
   "metadata": {},
   "outputs": [],
   "source": [
    "def optimisedSortArrayByParity(nums):\n",
    "    # creating a new list to show original list for test output\n",
    "    num_list = list(nums)\n",
    "    \n",
    "    start = 0\n",
    "    end = len(num_list) - 1\n",
    "    \n",
    "    while start < end:\n",
    "        if num_list[start] % 2 == 0:\n",
    "            start += 1\n",
    "        else:\n",
    "            if num_list[end] % 2 == 0:\n",
    "                num_list[start],num_list[end] = num_list[end],num_list[start]\n",
    "                end -= 1\n",
    "\n",
    "    return num_list"
   ]
  },
  {
   "cell_type": "code",
   "execution_count": 24,
   "id": "e6b391c1",
   "metadata": {},
   "outputs": [],
   "source": [
    "# list containing both even and odd integers\n",
    "test0 = {\n",
    "    'input': {\n",
    "      'nums' : [3,1,2,4]\n",
    "    },\n",
    "    'output': [4, 2, 1, 3]\n",
    "}"
   ]
  },
  {
   "cell_type": "markdown",
   "id": "80885c86",
   "metadata": {},
   "source": [
    "We need to consider the outputs [4,2,3,1], [2,4,1,3], and [4,2,1,3] also for test0 as per the source.\n",
    "\n",
    "Source: https://leetcode.com/problems/sort-array-by-parity/\n"
   ]
  },
  {
   "cell_type": "code",
   "execution_count": 25,
   "id": "8c7c529d",
   "metadata": {},
   "outputs": [
    {
     "data": {
      "text/plain": [
       "[{'input': {'nums': [3, 1, 2, 4]}, 'output': [4, 2, 1, 3]},\n",
       " {'input': {'nums': [1]}, 'output': [1]},\n",
       " {'input': {'nums': [2, 4, 6, 8]}, 'output': [2, 4, 6, 8]},\n",
       " {'input': {'nums': []}, 'output': []}]"
      ]
     },
     "execution_count": 25,
     "metadata": {},
     "output_type": "execute_result"
    }
   ],
   "source": [
    "tests = [test0,test1,test2,test3]\n",
    "tests"
   ]
  },
  {
   "cell_type": "code",
   "execution_count": 26,
   "id": "e8a66c83",
   "metadata": {},
   "outputs": [
    {
     "name": "stdout",
     "output_type": "stream",
     "text": [
      "\n",
      "\u001b[1mTEST CASE #0\u001b[0m\n",
      "\n",
      "Input:\n",
      "{'nums': [3, 1, 2, 4]}\n",
      "\n",
      "Expected Output:\n",
      "[4, 2, 1, 3]\n",
      "\n",
      "\n",
      "Actual Output:\n",
      "[4, 2, 1, 3]\n",
      "\n",
      "Execution Time:\n",
      "0.006 ms\n",
      "\n",
      "Test Result:\n",
      "\u001b[92mPASSED\u001b[0m\n",
      "\n",
      "\n",
      "\u001b[1mTEST CASE #1\u001b[0m\n",
      "\n",
      "Input:\n",
      "{'nums': [1]}\n",
      "\n",
      "Expected Output:\n",
      "[1]\n",
      "\n",
      "\n",
      "Actual Output:\n",
      "[1]\n",
      "\n",
      "Execution Time:\n",
      "0.003 ms\n",
      "\n",
      "Test Result:\n",
      "\u001b[92mPASSED\u001b[0m\n",
      "\n",
      "\n",
      "\u001b[1mTEST CASE #2\u001b[0m\n",
      "\n",
      "Input:\n",
      "{'nums': [2, 4, 6, 8]}\n",
      "\n",
      "Expected Output:\n",
      "[2, 4, 6, 8]\n",
      "\n",
      "\n",
      "Actual Output:\n",
      "[2, 4, 6, 8]\n",
      "\n",
      "Execution Time:\n",
      "0.005 ms\n",
      "\n",
      "Test Result:\n",
      "\u001b[92mPASSED\u001b[0m\n",
      "\n",
      "\n",
      "\u001b[1mTEST CASE #3\u001b[0m\n",
      "\n",
      "Input:\n",
      "{'nums': []}\n",
      "\n",
      "Expected Output:\n",
      "[]\n",
      "\n",
      "\n",
      "Actual Output:\n",
      "[]\n",
      "\n",
      "Execution Time:\n",
      "0.003 ms\n",
      "\n",
      "Test Result:\n",
      "\u001b[92mPASSED\u001b[0m\n",
      "\n",
      "\n",
      "\u001b[1mSUMMARY\u001b[0m\n",
      "\n",
      "TOTAL: 4, \u001b[92mPASSED\u001b[0m: 4, \u001b[91mFAILED\u001b[0m: 0\n"
     ]
    },
    {
     "data": {
      "text/plain": [
       "[([4, 2, 1, 3], True, 0.006),\n",
       " ([1], True, 0.003),\n",
       " ([2, 4, 6, 8], True, 0.005),\n",
       " ([], True, 0.003)]"
      ]
     },
     "execution_count": 26,
     "metadata": {},
     "output_type": "execute_result"
    }
   ],
   "source": [
    "evaluate_test_cases(optimisedSortArrayByParity, tests)"
   ]
  },
  {
   "cell_type": "markdown",
   "id": "1615ecc2",
   "metadata": {},
   "source": [
    "### 9. Analyze the algorithm's complexity and identify inefficiencies, if any."
   ]
  },
  {
   "cell_type": "markdown",
   "id": "7f366686",
   "metadata": {},
   "source": [
    "The <b>time complexity</b> of above algorithm will remain same as <b>O(n)</b> because the number of comparisons will be equivalent to number of elements in the list.\n",
    "\n",
    "The <b>space complexity</b> of above algorithm is now <b>O(1)</b> as the algorithm is swapping the elements in existing list."
   ]
  },
  {
   "cell_type": "code",
   "execution_count": null,
   "id": "d69c6d0a",
   "metadata": {},
   "outputs": [],
   "source": []
  },
  {
   "cell_type": "markdown",
   "id": "6a3668f9",
   "metadata": {},
   "source": [
    "If you found the problem on an external platform, you can make a submission to test your solution.\n",
    "\n",
    "Share your approach and start a discussion on the Jovian forum: https://jovian.ai/forum/c/data-structures-and-algorithms-in-python/78"
   ]
  },
  {
   "cell_type": "code",
   "execution_count": null,
   "id": "9587cd50",
   "metadata": {},
   "outputs": [
    {
     "data": {
      "application/javascript": [
       "window.require && require([\"base/js/namespace\"],function(Jupyter){Jupyter.notebook.save_checkpoint()})"
      ],
      "text/plain": [
       "<IPython.core.display.Javascript object>"
      ]
     },
     "metadata": {},
     "output_type": "display_data"
    }
   ],
   "source": [
    "jovian.commit()"
   ]
  },
  {
   "cell_type": "code",
   "execution_count": null,
   "id": "a94b70be",
   "metadata": {},
   "outputs": [],
   "source": []
  }
 ],
 "metadata": {
  "language_info": {
   "codemirror_mode": {
    "name": "ipython",
    "version": 3
   },
   "file_extension": ".py",
   "mimetype": "text/x-python",
   "name": "python",
   "nbconvert_exporter": "python",
   "pygments_lexer": "ipython3",
   "version": "3.9.6"
  }
 },
 "nbformat": 4,
 "nbformat_minor": 5
}